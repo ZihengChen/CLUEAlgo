{
 "cells": [
  {
   "cell_type": "code",
   "execution_count": 1,
   "metadata": {
    "collapsed": true
   },
   "outputs": [],
   "source": [
    "from pylab import *\n",
    "import pandas as pd\n",
    "from sklearn import datasets\n",
    "%matplotlib inline"
   ]
  },
  {
   "cell_type": "markdown",
   "metadata": {},
   "source": [
    "# Generate ToyDetector Dataset"
   ]
  },
  {
   "cell_type": "code",
   "execution_count": 5,
   "metadata": {
    "collapsed": true
   },
   "outputs": [],
   "source": [
    "# ToyDetector\n",
    "for n in range(1000,10001,1000):\n",
    "    m = 10\n",
    "    nNoise = int(0.05*n)\n",
    "    k = int((n-nNoise)/m)\n",
    "\n",
    "    particles = np.random.uniform(-240,240,size=(k,2))\n",
    "    hits = np.random.normal(particles, 2, size=(m,k,2))\n",
    "    hits = hits.transpose(1,0,2)\n",
    "    hits = hits.reshape(-1,2)\n",
    "\n",
    "    nNoise = n-k*m\n",
    "    noise = np.random.uniform(-230,230,size=(nNoise,2))\n",
    "    hits = np.r_[hits,noise]\n",
    "    hits = np.insert(hits,2,0,axis=1)\n",
    "    hits = np.insert(hits,3,1,axis=1)\n",
    "    np.savetxt(\"../data/input/toyDetector_{}.csv\".format(n), hits, fmt=\"%3.2f\",delimiter=\",\")\n",
    "\n",
    "    plt.subplots(figsize=(10,10),facecolor='w')\n",
    "    plt.plot(hits[:,0],hits[:,1],'.',markersize=2)\n",
    "    plt.title(\"toyDetector_{}\".format(n))\n",
    "    plt.savefig(\"../plots/input/toyDetector_{}.png\".format(n), dpi=300)\n",
    "    plt.close()"
   ]
  },
  {
   "cell_type": "markdown",
   "metadata": {
    "collapsed": true
   },
   "source": [
    "# Generate Nonspherical Dataset"
   ]
  },
  {
   "cell_type": "code",
   "execution_count": 6,
   "metadata": {
    "collapsed": true
   },
   "outputs": [],
   "source": [
    "# sythetic distribution from sklearn\n",
    "n = 1000\n",
    "nNoise = int(0.1*n)\n",
    "nSample = int(0.9*n)\n",
    "\n",
    "points,_ = datasets.make_circles(n_samples=nSample, factor=.5, noise=.05)\n",
    "a,b = points[:,0].max(), points[:,0].min()\n",
    "points[:,0] = 2*(points[:,0]-b)/(a-b)-1\n",
    "a,b = points[:,1].max(), points[:,1].min()\n",
    "points[:,1] = 2*(points[:,1]-b)/(a-b)-1\n",
    "points *= 230\n",
    "noise = np.random.uniform(-230,230,size=(nNoise,2))\n",
    "points = np.r_[points,noise]\n",
    "points = np.insert(points,2,0,axis=1)\n",
    "points = np.insert(points,3,1,axis=1)\n",
    "np.savetxt(\"../data/input/circles_{}.csv\".format(n), points, fmt=\"%3.2f\",delimiter=\",\")\n",
    "plt.subplots(figsize=(4,4),facecolor='w')\n",
    "plt.plot(points[:,0],points[:,1],'.',markersize=2)\n",
    "plt.title(\"circles_{}\".format(n))\n",
    "plt.savefig(\"../plots/input/circles_{}.png\".format(n), dpi=300)\n",
    "plt.close()\n",
    "\n",
    "\n",
    "points,_ = datasets.make_moons(n_samples=nSample, noise=.05)\n",
    "a,b = points[:,0].max(), points[:,0].min()\n",
    "points[:,0] = 2*(points[:,0]-b)/(a-b)-1\n",
    "a,b = points[:,1].max(), points[:,1].min()\n",
    "points[:,1] = 2*(points[:,1]-b)/(a-b)-1\n",
    "points *= 230\n",
    "noise = np.random.uniform(-230,230,size=(nNoise,2))\n",
    "points = np.r_[points,noise]\n",
    "points = np.insert(points,2,0,axis=1)\n",
    "points = np.insert(points,3,1,axis=1)\n",
    "np.savetxt(\"../data/input/moons_{}.csv\".format(n), points, fmt=\"%3.2f\",delimiter=\",\")\n",
    "plt.subplots(figsize=(4,4),facecolor='w')\n",
    "plt.plot(points[:,0],points[:,1],'.',markersize=2)\n",
    "plt.title(\"moons_{}\".format(n))\n",
    "plt.savefig(\"../plots/input/moons_{}.png\".format(n), dpi=300)\n",
    "plt.close()\n",
    "\n",
    "\n",
    "points, y = datasets.make_blobs(n_samples=nSample, random_state=170)\n",
    "transformation = [[0.6, -0.6], [-0.4, 0.8]]\n",
    "points = np.dot(points, transformation)\n",
    "a,b = points[:,0].max(), points[:,0].min()\n",
    "points[:,0] = 2*(points[:,0]-b)/(a-b)-1\n",
    "a,b = points[:,1].max(), points[:,1].min()\n",
    "points[:,1] = 2*(points[:,1]-b)/(a-b)-1\n",
    "points *= 230\n",
    "noise = np.random.uniform(-230,230,size=(nNoise,2))\n",
    "points = np.r_[points,noise]\n",
    "points = np.insert(points,2,0,axis=1)\n",
    "points = np.insert(points,3,1,axis=1)\n",
    "np.savetxt(\"../data/input/aniso_{}.csv\".format(n), points, fmt=\"%3.2f\",delimiter=\",\")\n",
    "plt.subplots(figsize=(4,4),facecolor='w')\n",
    "plt.plot(points[:,0],points[:,1],'.',markersize=2)\n",
    "plt.title(\"aniso_{}\".format(n))\n",
    "plt.savefig(\"../plots/input/aniso_{}.png\".format(n), dpi=300)\n",
    "plt.close()"
   ]
  },
  {
   "cell_type": "markdown",
   "metadata": {},
   "source": [
    "# Sissa Dataset"
   ]
  },
  {
   "cell_type": "code",
   "execution_count": 7,
   "metadata": {
    "collapsed": true
   },
   "outputs": [],
   "source": [
    "# Sissa dataset\n",
    "points = np.genfromtxt(\"../data/fig2_panelB.dat\",delimiter=' ')\n",
    "a,b = points[:,0].max(), points[:,0].min()\n",
    "points[:,0] = 2*(points[:,0]-b)/(a-b)-1\n",
    "a,b = points[:,1].max(), points[:,1].min()\n",
    "points[:,1] = 2*(points[:,1]-b)/(a-b)-1\n",
    "points *= 230\n",
    "points = np.insert(points,2,0,axis=1)\n",
    "points = np.insert(points,3,1,axis=1)\n",
    "np.savetxt(\"../data/input/sissa_4000.csv\", points, fmt=\"%3.2f\",delimiter=\",\")\n",
    "plt.subplots(figsize=(4,4),facecolor='w')\n",
    "plt.plot(points[:,0],points[:,1],'.',markersize=2)\n",
    "plt.title(\"sissa_4000\")\n",
    "plt.savefig(\"../plots/input/sissa_4000.png\", dpi=300)\n",
    "plt.close()\n",
    "\n",
    "points = np.genfromtxt(\"../data/fig2_panelC.dat\",delimiter=' ')\n",
    "a,b = points[:,0].max(), points[:,0].min()\n",
    "points[:,0] = 2*(points[:,0]-b)/(a-b)-1\n",
    "a,b = points[:,1].max(), points[:,1].min()\n",
    "points[:,1] = 2*(points[:,1]-b)/(a-b)-1\n",
    "points *= 230\n",
    "points = np.insert(points,2,0,axis=1)\n",
    "points = np.insert(points,3,1,axis=1)\n",
    "np.savetxt(\"../data/input/sissa_1000.csv\", points, fmt=\"%3.2f\", delimiter=\",\")\n",
    "plt.subplots(figsize=(4,4),facecolor='w')\n",
    "plt.plot(points[:,0],points[:,1],'.',markersize=2)\n",
    "plt.title(\"sissa_1000\")\n",
    "plt.savefig(\"../plots/input/sissa_1000.png\", dpi=300)\n",
    "plt.close()"
   ]
  },
  {
   "cell_type": "markdown",
   "metadata": {},
   "source": [
    "# CLUE Algo Demo Dataset"
   ]
  },
  {
   "cell_type": "code",
   "execution_count": 1,
   "metadata": {},
   "outputs": [
    {
     "ename": "NameError",
     "evalue": "name 'np' is not defined",
     "output_type": "error",
     "traceback": [
      "\u001b[0;31m---------------------------------------------------------------------------\u001b[0m",
      "\u001b[0;31mNameError\u001b[0m                                 Traceback (most recent call last)",
      "\u001b[0;32m<ipython-input-1-0323a56ca4cc>\u001b[0m in \u001b[0;36m<module>\u001b[0;34m()\u001b[0m\n\u001b[1;32m      2\u001b[0m \u001b[0mk\u001b[0m \u001b[0;34m=\u001b[0m \u001b[0mint\u001b[0m\u001b[0;34m(\u001b[0m\u001b[0;34m(\u001b[0m\u001b[0mn\u001b[0m\u001b[0;34m-\u001b[0m\u001b[0mnNoise\u001b[0m\u001b[0;34m)\u001b[0m\u001b[0;34m/\u001b[0m\u001b[0mm\u001b[0m\u001b[0;34m)\u001b[0m\u001b[0;34m\u001b[0m\u001b[0m\n\u001b[1;32m      3\u001b[0m \u001b[0;34m\u001b[0m\u001b[0m\n\u001b[0;32m----> 4\u001b[0;31m \u001b[0mparticles\u001b[0m \u001b[0;34m=\u001b[0m \u001b[0mnp\u001b[0m\u001b[0;34m.\u001b[0m\u001b[0mrandom\u001b[0m\u001b[0;34m.\u001b[0m\u001b[0muniform\u001b[0m\u001b[0;34m(\u001b[0m\u001b[0;34m-\u001b[0m\u001b[0;36m5\u001b[0m\u001b[0;34m,\u001b[0m\u001b[0;36m5\u001b[0m\u001b[0;34m,\u001b[0m\u001b[0msize\u001b[0m\u001b[0;34m=\u001b[0m\u001b[0;34m(\u001b[0m\u001b[0mk\u001b[0m\u001b[0;34m,\u001b[0m\u001b[0;36m2\u001b[0m\u001b[0;34m)\u001b[0m\u001b[0;34m)\u001b[0m\u001b[0;34m\u001b[0m\u001b[0m\n\u001b[0m\u001b[1;32m      5\u001b[0m \u001b[0mparticles\u001b[0m \u001b[0;34m=\u001b[0m \u001b[0mnp\u001b[0m\u001b[0;34m.\u001b[0m\u001b[0marray\u001b[0m\u001b[0;34m(\u001b[0m\u001b[0;34m[\u001b[0m\u001b[0;34m[\u001b[0m\u001b[0;36m2\u001b[0m\u001b[0;34m,\u001b[0m\u001b[0;36m2\u001b[0m\u001b[0;34m]\u001b[0m\u001b[0;34m,\u001b[0m\u001b[0;34m[\u001b[0m\u001b[0;34m-\u001b[0m\u001b[0;36m3\u001b[0m\u001b[0;34m,\u001b[0m\u001b[0;34m-\u001b[0m\u001b[0;36m3\u001b[0m\u001b[0;34m]\u001b[0m\u001b[0;34m]\u001b[0m\u001b[0;34m)\u001b[0m\u001b[0;34m\u001b[0m\u001b[0m\n\u001b[1;32m      6\u001b[0m \u001b[0mhits\u001b[0m \u001b[0;34m=\u001b[0m \u001b[0mnp\u001b[0m\u001b[0;34m.\u001b[0m\u001b[0mrandom\u001b[0m\u001b[0;34m.\u001b[0m\u001b[0mnormal\u001b[0m\u001b[0;34m(\u001b[0m\u001b[0mparticles\u001b[0m\u001b[0;34m,\u001b[0m \u001b[0;36m1\u001b[0m\u001b[0;34m,\u001b[0m \u001b[0msize\u001b[0m\u001b[0;34m=\u001b[0m\u001b[0;34m(\u001b[0m\u001b[0mm\u001b[0m\u001b[0;34m,\u001b[0m\u001b[0mk\u001b[0m\u001b[0;34m,\u001b[0m\u001b[0;36m2\u001b[0m\u001b[0;34m)\u001b[0m\u001b[0;34m)\u001b[0m\u001b[0;34m\u001b[0m\u001b[0m\n",
      "\u001b[0;31mNameError\u001b[0m: name 'np' is not defined"
     ]
    }
   ],
   "source": [
    "n,m,nNoise = 25,10,5\n",
    "k = int((n-nNoise)/m)\n",
    "\n",
    "particles = np.random.uniform(-5,5,size=(k,2))\n",
    "particles = np.array([[2,2],[-3,-3]])\n",
    "hits = np.random.normal(particles, 1, size=(m,k,2))\n",
    "hits = hits.transpose(1,0,2)\n",
    "hits = hits.reshape(-1,2)\n",
    "\n",
    "nNoise = n-k*m\n",
    "noise = np.random.uniform(-5,5,size=(nNoise,2))\n",
    "hits = np.r_[hits,noise]\n",
    "hits = np.insert(hits,2,0,axis=1)\n",
    "hits = np.insert(hits,3,1,axis=1)\n",
    "\n",
    "\n",
    "\n",
    "plt.subplots(figsize=(4,4),facecolor='w')\n",
    "plt.plot(hits[:,0],hits[:,1],'ko',alpha=0.5,markersize=10)\n",
    "plt.grid(True,color='grey',linestyle=\"--\",alpha=0.4)\n",
    "plt.xlim(-6,6)\n",
    "plt.ylim(-6,6)\n",
    "plt.xticks(fontsize=0,color=\"None\")\n",
    "plt.yticks(fontsize=0,color=\"None\")\n",
    "\n",
    "# np.genfromtxt(\"../data/input/test_25_notused.csv\",delimiter=\",\")"
   ]
  },
  {
   "cell_type": "code",
   "execution_count": 180,
   "metadata": {
    "collapsed": true
   },
   "outputs": [],
   "source": [
    "\n"
   ]
  }
 ],
 "metadata": {
  "kernelspec": {
   "display_name": "Python 3",
   "language": "python",
   "name": "python3"
  },
  "language_info": {
   "codemirror_mode": {
    "name": "ipython",
    "version": 3
   },
   "file_extension": ".py",
   "mimetype": "text/x-python",
   "name": "python",
   "nbconvert_exporter": "python",
   "pygments_lexer": "ipython3",
   "version": "3.7.3"
  }
 },
 "nbformat": 4,
 "nbformat_minor": 2
}
